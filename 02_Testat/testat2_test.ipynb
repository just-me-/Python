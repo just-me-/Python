{
 "cells": [
  {
   "cell_type": "markdown",
   "metadata": {},
   "source": [
    "# Python - Testat 2"
   ]
  },
  {
   "cell_type": "markdown",
   "metadata": {},
   "source": [
    "Initialisierung:"
   ]
  },
  {
   "cell_type": "code",
   "execution_count": null,
   "metadata": {
    "collapsed": true
   },
   "outputs": [],
   "source": [
    "%matplotlib inline\n",
    "import numpy as np\n",
    "import matplotlib.pyplot as plt\n",
    "from scipy.interpolate import RectBivariateSpline\n",
    "import matplotlib.colors as colors\n",
    "\n",
    "# make a colormap that has land and ocean clearly delineated and of the\n",
    "# same length (256 + 256)\n",
    "colors_undersea = plt.cm.terrain(np.linspace(0, 0.17, 256))\n",
    "colors_land = plt.cm.terrain(np.linspace(0.25, 1, 256))\n",
    "all_colors = np.vstack([colors_undersea, colors_land])\n",
    "terrain_map = colors.LinearSegmentedColormap.from_list(\n",
    "    'terrain_map', all_colors)\n",
    "\n",
    "class MidpointNormalize(colors.Normalize):\n",
    "    def __init__(self, vmin=None, vmax=None, vcenter=None, clip=True):\n",
    "        self.vcenter = vcenter\n",
    "        colors.Normalize.__init__(self, vmin, vmax, clip)\n",
    "\n",
    "    def __call__(self, value, clip=None):\n",
    "        x, y = [self.vmin, self.vcenter, self.vmax], [0, 0.5, 1]\n",
    "        return np.ma.masked_array(np.interp(value, x, y))\n",
    "\n",
    "# Contourf-Parameter\n",
    "c_levels = np.linspace(-800, 1700, 26)\n",
    "midnorm = MidpointNormalize(vmin=-800, vcenter=0, vmax=1700)"
   ]
  },
  {
   "cell_type": "markdown",
   "metadata": {},
   "source": [
    "## TopoMap-Instanz erstellen"
   ]
  },
  {
   "cell_type": "code",
   "execution_count": null,
   "metadata": {
    "collapsed": true
   },
   "outputs": [],
   "source": [
    "from testat2_muloe import TopoMap"
   ]
  },
  {
   "cell_type": "code",
   "execution_count": null,
   "metadata": {
    "collapsed": false
   },
   "outputs": [],
   "source": [
    "tmap = TopoMap('map_data.txt')"
   ]
  },
  {
   "cell_type": "code",
   "execution_count": null,
   "metadata": {
    "collapsed": false
   },
   "outputs": [],
   "source": [
    "tmap.X.shape, tmap.Y.shape, tmap.Z.shape"
   ]
  },
  {
   "cell_type": "code",
   "execution_count": null,
   "metadata": {
    "collapsed": false
   },
   "outputs": [],
   "source": [
    "if tmap.X is not tmap.X and tmap.Y is not tmap.Y and tmap.Z is not tmap.Z:\n",
    "    print('richtig: X/Y/Z sind Kopien der internen Daten.')\n",
    "else:\n",
    "    print('falsch: Referenzen auf interne Daten.')"
   ]
  },
  {
   "cell_type": "markdown",
   "metadata": {},
   "source": [
    "## highest_point(self)"
   ]
  },
  {
   "cell_type": "code",
   "execution_count": null,
   "metadata": {
    "collapsed": false
   },
   "outputs": [],
   "source": [
    "P_H = tmap.highest_point()\n",
    "P_H"
   ]
  },
  {
   "cell_type": "markdown",
   "metadata": {},
   "source": [
    "## lowest_point(self)"
   ]
  },
  {
   "cell_type": "code",
   "execution_count": null,
   "metadata": {
    "collapsed": false
   },
   "outputs": [],
   "source": [
    "P_L = tmap.lowest_point()\n",
    "P_L"
   ]
  },
  {
   "cell_type": "markdown",
   "metadata": {},
   "source": [
    "## elevation(self, position)"
   ]
  },
  {
   "cell_type": "code",
   "execution_count": null,
   "metadata": {
    "collapsed": false
   },
   "outputs": [],
   "source": [
    "tmap.elevation([1.1e3, -2.2e3])"
   ]
  },
  {
   "cell_type": "markdown",
   "metadata": {},
   "source": [
    "## elevation_profile(self, path)"
   ]
  },
  {
   "cell_type": "code",
   "execution_count": null,
   "metadata": {
    "collapsed": true
   },
   "outputs": [],
   "source": [
    "# Pfad A-B-C definieren\n",
    "PA = [-9e3, -6e3]\n",
    "PB = [-8e3, -1.5e3]\n",
    "PC = [6e3, -2.5e3]\n",
    "pfad_ABC = np.c_[np.r_[np.linspace(PA[0], PB[0], 500),\n",
    "                       np.linspace(PB[0], PC[0], 500)],\n",
    "                 np.r_[np.linspace(PA[1], PB[1], 500),\n",
    "                       np.linspace(PB[1], PC[1], 500)]]"
   ]
  },
  {
   "cell_type": "code",
   "execution_count": null,
   "metadata": {
    "collapsed": true
   },
   "outputs": [],
   "source": [
    "dn, zn = tmap.elevation_profile(pfad_ABC)"
   ]
  },
  {
   "cell_type": "code",
   "execution_count": null,
   "metadata": {
    "collapsed": false
   },
   "outputs": [],
   "source": [
    "fig, ax = plt.subplots()\n",
    "ax.plot(dn, zn)\n",
    "ax.set_xlabel('2D-Distanz (m)')\n",
    "ax.set_ylabel('Höhe (m ü. M.)')\n",
    "ax.grid(True)\n",
    "fig.tight_layout()"
   ]
  },
  {
   "cell_type": "markdown",
   "metadata": {},
   "source": [
    "## distance_travelled(self, path)"
   ]
  },
  {
   "cell_type": "code",
   "execution_count": null,
   "metadata": {
    "collapsed": false
   },
   "outputs": [],
   "source": [
    "d, hm = tmap.distance_travelled(pfad_ABC)"
   ]
  },
  {
   "cell_type": "code",
   "execution_count": null,
   "metadata": {
    "collapsed": false
   },
   "outputs": [],
   "source": [
    "print('Weglänge = {:.0f}m, Höhenmeter = {:.0f}m'. format(d, hm))"
   ]
  },
  {
   "cell_type": "markdown",
   "metadata": {},
   "source": [
    "## fall_line(self, start, descent=True, gamma=50, max_iter=10000, precision=0.1)"
   ]
  },
  {
   "cell_type": "code",
   "execution_count": null,
   "metadata": {
    "collapsed": true
   },
   "outputs": [],
   "source": [
    "# Startpunkte definieren\n",
    "P1 = [6200, -5100]\n",
    "P2 = [-2500, -3000]"
   ]
  },
  {
   "cell_type": "code",
   "execution_count": null,
   "metadata": {
    "collapsed": false
   },
   "outputs": [],
   "source": [
    "tmap.fall_line(P1)"
   ]
  },
  {
   "cell_type": "code",
   "execution_count": null,
   "metadata": {
    "collapsed": false
   },
   "outputs": [],
   "source": [
    "tmap.fall_line(P2, descent=False)"
   ]
  },
  {
   "cell_type": "markdown",
   "metadata": {},
   "source": [
    "## aligned_map(self, p, q)"
   ]
  },
  {
   "cell_type": "code",
   "execution_count": null,
   "metadata": {
    "collapsed": true
   },
   "outputs": [],
   "source": [
    "# Referenzpunkte\n",
    "P = [5165, -6601]\n",
    "Q = [-7052, -4115]"
   ]
  },
  {
   "cell_type": "code",
   "execution_count": null,
   "metadata": {
    "collapsed": false
   },
   "outputs": [],
   "source": [
    "X_new, Y_new, Z_new, A_rot = tmap.aligned_map(P, Q)\n",
    "print('shapes:', X_new.shape, Y_new.shape, Z_new.shape)\n",
    "print('A =\\n', A_rot, sep='')"
   ]
  },
  {
   "cell_type": "code",
   "execution_count": null,
   "metadata": {
    "collapsed": true
   },
   "outputs": [],
   "source": [
    "Q_new = [0, 1.24673688e+04]"
   ]
  },
  {
   "cell_type": "code",
   "execution_count": null,
   "metadata": {
    "collapsed": false
   },
   "outputs": [],
   "source": [
    "fig, ax = plt.subplots()\n",
    "ax.contourf(\n",
    "        X_new,\n",
    "        Y_new,\n",
    "        Z_new,\n",
    "        c_levels,\n",
    "        norm=midnorm,\n",
    "        cmap=terrain_map,\n",
    ")\n",
    "ax.axis('image')\n",
    "ax.grid(True)\n",
    "ax.plot(0, 0, 'b^', label='P')\n",
    "ax.plot(Q_new[0], Q_new[1], 'ro', label='Q')\n",
    "ax.set_xlabel(r'$\\tilde{x}$ (m)')\n",
    "ax.set_ylabel(r'$\\tilde{y}$ (m)')\n",
    "ax.legend()\n",
    "fig.tight_layout()"
   ]
  },
  {
   "cell_type": "code",
   "execution_count": null,
   "metadata": {
    "collapsed": true
   },
   "outputs": [],
   "source": []
  }
 ],
 "metadata": {
  "kernelspec": {
   "display_name": "Python 3",
   "language": "python",
   "name": "python3"
  },
  "language_info": {
   "codemirror_mode": {
    "name": "ipython",
    "version": 3
   },
   "file_extension": ".py",
   "mimetype": "text/x-python",
   "name": "python",
   "nbconvert_exporter": "python",
   "pygments_lexer": "ipython3",
   "version": "3.5.3"
  }
 },
 "nbformat": 4,
 "nbformat_minor": 2
}
